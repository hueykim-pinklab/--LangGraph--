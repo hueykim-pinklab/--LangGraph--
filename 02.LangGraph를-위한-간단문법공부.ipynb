{
 "cells": [
  {
   "cell_type": "markdown",
   "metadata": {},
   "source": [
    "# LangGraph 에 자주 등장하는 Python 문법\n",
    "\n",
    "\n",
    "## 목차 \n",
    "- TypedDict\n",
    "- Annotated \n",
    "- add_messages"
   ]
  },
  {
   "cell_type": "markdown",
   "metadata": {},
   "source": [
    "## TypedDict\n",
    "\n",
    "`dict`와 `TypedDict`의 비교와 사용 이유\n",
    "\n",
    "1. `dict`와 `TypedDict`의 주요 차이점:\n",
    "\n",
    "   a) 타입 검사:\n",
    "      - `dict`: 런타임에 타입 검사 x \n",
    "      - `TypedDict`: 정적 타입 검사를 제공. 즉, 코드 작성 시 IDE나 타입 체커가 오류를 미리 catch 가능 \n",
    "\n",
    "   b) 키와 값의 타입:\n",
    "      - `dict`: 키와 값의 타입을 일반적으로 지정 (예: Dict[str, str]).\n",
    "      - `TypedDict`: 각 키에 대해 구체적인 타입을 지정\n",
    "\n",
    "   c) 유연성:\n",
    "      - `dict`: 런타임에 키를 추가하거나 제거\n",
    "      - `TypedDict`: 정의된 구조를 따라야 함. 추가적인 키는 타입 오류를 발생\n",
    "\n",
    "2. `TypedDict`가 `dict` 대신 사용되는 이유:\n",
    "\n",
    "   a) 타입 안정성: \n",
    "      - `TypedDict` : 엄격한 타입 검사 -> 잠재적인 버그 미리 방지\n",
    "\n",
    "   c) IDE 지원:\n",
    "      - `TypedDict` : IDE에서 자동 완성 및 타입 힌트를 더 정확하게 제공받을 수 있음\n",
    "\n",
    "   d) 문서화:\n",
    "      - `TypedDict`는 코드 자체가 문서의 역할을 하여 딕셔너리의 구조를 명확히 보여줌"
   ]
  },
  {
   "cell_type": "code",
   "execution_count": 8,
   "metadata": {},
   "outputs": [],
   "source": [
    "# TypedDict와 Dict의 차이점 예시\n",
    "from typing import Dict, TypedDict\n",
    "\n",
    "# 일반적인 파이썬 딕셔너리(dict) 사용\n",
    "sample_dict: Dict[str, str] = {\n",
    "    \"name\": \"철수\",\n",
    "    \"age\": \"10\",  # 문자열로 저장 \n",
    "    \"job\": \"학생\",\n",
    "}\n",
    "\n",
    "\n",
    "# TypedDict 사용\n",
    "class Person(TypedDict):\n",
    "    name: str\n",
    "    age: int  # 정수형으로 명시\n",
    "    job: str\n",
    "\n",
    "\n",
    "typed_dict: Person = {\"name\": \"영희\", \"age\": 10, \"job\": \"학생\"}"
   ]
  },
  {
   "cell_type": "code",
   "execution_count": 10,
   "metadata": {},
   "outputs": [
    {
     "data": {
      "text/plain": [
       "{'name': '철수', 'age': '10', 'job': '학생'}"
      ]
     },
     "execution_count": 10,
     "metadata": {},
     "output_type": "execute_result"
    }
   ],
   "source": [
    "sample_dict"
   ]
  },
  {
   "cell_type": "code",
   "execution_count": 9,
   "metadata": {},
   "outputs": [
    {
     "data": {
      "text/plain": [
       "{'name': '영희', 'age': 10, 'job': '학생'}"
      ]
     },
     "execution_count": 9,
     "metadata": {},
     "output_type": "execute_result"
    }
   ],
   "source": [
    "typed_dict"
   ]
  },
  {
   "cell_type": "markdown",
   "metadata": {},
   "source": [
    "- VS Code 등의 IDE에서 타입 검사 기능을 활성화하면, \n",
    "- 타입 불일치와 정의되지 않은 키 추가를 오류로 표시합니다.\n",
    "- 정적 타입 검사기를 사용하면 다음과 같은 오류 메시지를 볼 수 있습니다."
   ]
  },
  {
   "cell_type": "markdown",
   "metadata": {},
   "source": [
    "# Annotated\n",
    "\n",
    "- 타입 힌트에 메타데이터를 추가할 수 있다 \n",
    "- 다룰 변수에 라벨을 달아준다고 생각\n",
    "\n",
    "### `Annotated`를 사용하는 주요 이유\n",
    "\n",
    "**추가 정보 제공(타입 힌트) / 문서화** \n",
    "\n",
    "- 타입 힌트에 추가적인 정보를 포함시킬 수 있음 \n",
    "    + 이는 코드를 읽는 사람이나 도구에 더 많은 컨텍스트를 제공\n",
    "- 코드에 대한 추가 설명을 타입 힌트에 직접 포함시킬 수 있음\n",
    "\n",
    "`name: Annotated[str, \"이름\"]`\n",
    "\n",
    "`age: Annotated[int, \"나이\"]`\n",
    "\n"
   ]
  },
  {
   "cell_type": "markdown",
   "metadata": {},
   "source": [
    "\n",
    "\n",
    "### Annotated 주요 기능(사용 이유)\n",
    "\n",
    "1. **추가 정보 제공**: 타입 힌트에 메타데이터를 추가 -> 더 상세한 정보 제공\n",
    "2. **문서화**: 코드 자체에 추가 설명을 포함시켜 -> 문서화 효과\n",
    "3. **유효성 검사**: 특정 라이브러리(예: Pydantic)와 함께 사용하여 -> 데이터 유효성 검사 수행 가능 \n",
    "4. **프레임워크 지원**: 일부 프레임워크(예: LangGraph)에서는 `Annotated`를 사용하여 특정 동작을 정의 함 : 기능 구현을 위해 써야함\n",
    "\n",
    "**기본 문법**\n",
    "\n",
    "- `Type`: 기본 타입 (예: `int`, `str`, `List[str]` 등)\n",
    "- `metadata1`, `metadata2`, ...: 추가하고자 하는 메타데이터\n",
    "  \n",
    "예시 코드\n",
    "\n",
    "```python\n",
    "from typing import Annotated\n",
    "\n",
    "variable: Annotated[Type, metadata1, metadata2, ...]\n",
    "```"
   ]
  },
  {
   "cell_type": "markdown",
   "metadata": {},
   "source": [
    "### 사용 예시 "
   ]
  },
  {
   "cell_type": "code",
   "execution_count": 14,
   "metadata": {},
   "outputs": [],
   "source": [
    "from typing import Annotated\n",
    "\n",
    "name: Annotated[str, \"사용자 이름\"]\n",
    "age: Annotated[int, \"사용자 나이 (0-150)\"]"
   ]
  },
  {
   "cell_type": "code",
   "execution_count": null,
   "metadata": {},
   "outputs": [],
   "source": [
    "from typing import Annotated, List\n",
    "from pydantic import Field, BaseModel, ValidationError\n",
    "\n",
    "\n",
    "class Employee(BaseModel):\n",
    "    id: Annotated[int, Field(..., description=\"직원 ID\")]                                   # ... 의 의미: 반드시 누락 되면 안된다. 해당 변수가 \n",
    "    name: Annotated[str, Field(..., min_length=3, max_length=50, description=\"이름\")]\n",
    "    age: Annotated[int, Field(gt=18, lt=65, description=\"나이 (19-64세)\")]\n",
    "    salary: Annotated[float, Field(gt=0, lt=10000, description=\"연봉 (단위: 만원, 최대 10억)\")]\n",
    "    skills: Annotated[List[str], Field(min_items=1, max_items=10, description=\"보유 기술 (1-10개)\")]\n"
   ]
  },
  {
   "cell_type": "code",
   "execution_count": 19,
   "metadata": {},
   "outputs": [
    {
     "name": "stdout",
     "output_type": "stream",
     "text": [
      "유효한 직원 데이터: id=1 name='김현우' age=30 salary=1000.0 skills=['Python', 'LangChain']\n"
     ]
    }
   ],
   "source": [
    "# 1. 유효한 데이터로 인스턴스 생성\n",
    "try:\n",
    "    valid_employee = Employee(\n",
    "        id=1, \n",
    "        name=\"김현우\", \n",
    "        age=30, \n",
    "        salary=1000, \n",
    "        skills=[\"Python\", \"LangChain\"]\n",
    "    )\n",
    "    print(\"유효한 직원 데이터:\", valid_employee)\n",
    "    \n",
    "except ValidationError as e:\n",
    "    print(\"유효성 검사 오류:\", e)\n"
   ]
  },
  {
   "cell_type": "code",
   "execution_count": 21,
   "metadata": {},
   "outputs": [
    {
     "name": "stdout",
     "output_type": "stream",
     "text": [
      "유효성 검사 오류:\n",
      "- id: Field required\n",
      "- name: String should have at least 3 characters\n",
      "- age: Input should be greater than 18\n",
      "- salary: Input should be less than 10000\n",
      "- skills: Input should be a valid list\n"
     ]
    }
   ],
   "source": [
    "# 2. 유효하지 않은 데이터로 인스턴스 생성 시도\n",
    "try:\n",
    "    invalid_employee = Employee(                \n",
    "        # id 없으니 오류         \n",
    "        name=\"현\",  # 이름이 너무 짧음                    \n",
    "        age=17,  # 나이가 범위를 벗어남\n",
    "        salary=20000,  # 급여가 범위를 벗어남\n",
    "        skills=\"Python\",  # 리스트가 아님\n",
    "    )\n",
    "except ValidationError as e:\n",
    "    print(\"유효성 검사 오류:\")\n",
    "    for error in e.errors():\n",
    "        print(f\"- {error['loc'][0]}: {error['msg']}\")"
   ]
  },
  {
   "cell_type": "markdown",
   "metadata": {},
   "source": [
    "# add_messages\n",
    "\n",
    "### LangGraph에서의 사용(add_messages)\n",
    "\n",
    "`add_messages` : LangGraph 에서 메시지를 리스트에 추가하는 함수"
   ]
  },
  {
   "cell_type": "code",
   "execution_count": 22,
   "metadata": {},
   "outputs": [],
   "source": [
    "from typing import Annotated, TypedDict\n",
    "from langgraph.graph import add_messages\n",
    "\n",
    "\n",
    "class MyData(TypedDict):\n",
    "    messages: Annotated[list, add_messages]"
   ]
  },
  {
   "cell_type": "markdown",
   "metadata": {},
   "source": [
    "**참고**\n",
    "\n",
    "1. `Annotated`는 Python 3.9 이상에서 사용 가능\n",
    "2. 런타임에는 `Annotated`가 무시되므로, 실제 동작에는 영향을 주지 않음\n",
    "3. 타입 검사 도구나 IDE가 `Annotated`를 지원해야 그 효과를 볼 수 있음"
   ]
  },
  {
   "cell_type": "code",
   "execution_count": 24,
   "metadata": {},
   "outputs": [],
   "source": [
    "from langchain_core.messages import AIMessage, HumanMessage\n",
    "from langgraph.graph import add_messages\n",
    "\n",
    "# 기본 사용 예시\n",
    "msgs1 = [HumanMessage(content=\"안녕하세요?\", id=\"1\")]\n",
    "msgs2 = [AIMessage(content=\"반갑습니다~\", id=\"2\")]\n",
    "\n",
    "result1 = add_messages(msgs1, msgs2)"
   ]
  },
  {
   "cell_type": "code",
   "execution_count": 26,
   "metadata": {},
   "outputs": [
    {
     "data": {
      "text/plain": [
       "[HumanMessage(content='안녕하세요?', additional_kwargs={}, response_metadata={}, id='1'),\n",
       " AIMessage(content='반갑습니다~', additional_kwargs={}, response_metadata={}, id='2')]"
      ]
     },
     "execution_count": 26,
     "metadata": {},
     "output_type": "execute_result"
    }
   ],
   "source": [
    "result1"
   ]
  },
  {
   "cell_type": "markdown",
   "metadata": {},
   "source": [
    "\n",
    "주석이 없는 상태 키는 각 업데이트에 의해 덮어쓰여져 가장 최근의 값이 저장 됨\n",
    "\n",
    "`add_messages` 함수\n",
    "   - 2개의 인자(left, right)를 받음 \n",
    "   - 좌, 우 메시지를 병합하는 방식으로 동작\n",
    "\n",
    "**주요 기능**\n",
    "   - 두 개의 메시지 리스트를 병합\n",
    "   - 기본적으로 \"append-only\" 상태를 유지\n",
    "   - 동일한 ID를 가진 메시지가 있을 경우, 새 메시지로 기존 메시지를 대체\n",
    "\n",
    "**동작 방식**\n",
    "   - `right`의 메시지 중 `left`에 동일한 ID를 가진 메시지가 있으면, `right`의 메시지로 대체\n",
    "   - 그 외의 경우 `right`의 메시지가 `left`에 추가됩니다.\n",
    "\n",
    "**매개변수**\n",
    "   - `left` (Messages): 기본 메시지 리스트\n",
    "   - `right` (Messages): 병합할 메시지 리스트 또는 단일 메시지\n",
    "\n",
    "**반환값**\n",
    "   - `Messages`: `right`의 메시지들이 `left`에 병합된 새로운 메시지 리스트"
   ]
  },
  {
   "cell_type": "code",
   "execution_count": 28,
   "metadata": {},
   "outputs": [],
   "source": [
    "# 동일한 ID를 가진 메시지에 대해 기존 메시지는 제거되고 현재 메시지로 대체\n",
    "msgs1 = [HumanMessage(content=\"안녕하세요?\", id=\"1\")]\n",
    "msgs2 = [HumanMessage(content=\"반갑습니다~\", id=\"1\")]\n",
    "\n",
    "result2 = add_messages(msgs1, msgs2)"
   ]
  },
  {
   "cell_type": "code",
   "execution_count": 29,
   "metadata": {},
   "outputs": [
    {
     "data": {
      "text/plain": [
       "[HumanMessage(content='반갑습니다~', additional_kwargs={}, response_metadata={}, id='1')]"
      ]
     },
     "execution_count": 29,
     "metadata": {},
     "output_type": "execute_result"
    }
   ],
   "source": [
    "result2"
   ]
  },
  {
   "cell_type": "code",
   "execution_count": null,
   "metadata": {},
   "outputs": [],
   "source": []
  }
 ],
 "metadata": {
  "kernelspec": {
   "display_name": "llm",
   "language": "python",
   "name": "python3"
  },
  "language_info": {
   "codemirror_mode": {
    "name": "ipython",
    "version": 3
   },
   "file_extension": ".py",
   "mimetype": "text/x-python",
   "name": "python",
   "nbconvert_exporter": "python",
   "pygments_lexer": "ipython3",
   "version": "3.10.16"
  }
 },
 "nbformat": 4,
 "nbformat_minor": 2
}
