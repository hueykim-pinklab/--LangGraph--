{
 "cells": [
  {
   "cell_type": "markdown",
   "metadata": {},
   "source": [
    "# LangGraph \n",
    "\n",
    "- Node, Edge, State를 통해 LLM을 활용한 워크플로우에 순환(Cycle) 연산 기능을 추가하여 손쉽게 흐름을 제어. \n",
    "- RAG 파이프라인의 세부 단계별 흐름제어가 가능 \n",
    "- Conditional Edge: 조건부 (if, elif, else와 같은) 흐름 제어 \n",
    "- Human-in-the-loop: 필요시 중간 개입하여 다음 단계를 결정 \n",
    "- Checkpointer: 과거 실행 과정에 대한 \"수정\" & \"리플레이\" 기능 \n"
   ]
  },
  {
   "cell_type": "markdown",
   "metadata": {},
   "source": [
    "# 목차 \n",
    "- 1. 상태 (State)\n",
    "- 2. 노드 (Node)\n",
    "- 3. 엣지 (Edge)\n",
    "- 4. 조건부 엣지 (Conditional Edge)\n",
    "- 5. 시작점 지정 \n",
    "- 6. 체크포인터 (memory)\n",
    "- 7. 그래프 시각화\n",
    "- 8. 그래프 실행"
   ]
  },
  {
   "cell_type": "markdown",
   "metadata": {},
   "source": [
    "# 1. 상태 (State)\n",
    "\n",
    "노드와 노드간에 정보를 전달할 때 상태(State) 객체에 담아 전달 \n",
    "\n",
    "- TypedDict: 일반 파이썬 dict에 타입힌트를 추가한 개념, dictionary와 유사 \n",
    "- **모든 값을 다 채우지 않아도 된다**\n",
    "- 새로운 노드에서 값을 덮어쓰기 방식으로 채운다 \n",
    "- Reducer (add_message 혹은 operator.add)\n",
    "    + 자동으로 list에 기존 값을 유지하면서 새로운 메시지를 추가하는 기능 \n"
   ]
  },
  {
   "cell_type": "code",
   "execution_count": 1,
   "metadata": {},
   "outputs": [],
   "source": [
    "from typing import TypedDict, Annotated, List\n",
    "from langgraph.graph.message import add_messages\n",
    "from langchain_core.documents import Document\n",
    "import operator\n",
    "\n",
    "# State 정의\n",
    "class GraphState(TypedDict):\n",
    "    question: Annotated[list, add_messages]\n",
    "    context: Annotated[str, \"Context\"]\n",
    "    answer: Annotated[str, \"Answer\"]\n",
    "    message: Annotated[list, add_messages]\n",
    "    relevance: Annotated[str, \"Relevance\"]\n",
    "    \n",
    "    \n",
    "# # State 정의\n",
    "# class GraphState(TypedDict):\n",
    "#     question: Annotated[str, \"user question\"]\n",
    "#     context: Annotated[List[Document], operator.add]\n",
    "#     answer: Annotated[List[Document], operator.add]\n",
    "#     sql_query: Annotated[str, \"sql query\"]\n",
    "#     binary_score: Annotated[str, \"binary score yes or no\"]"
   ]
  },
  {
   "cell_type": "code",
   "execution_count": null,
   "metadata": {},
   "outputs": [],
   "source": [
    "from langchain_core.messages import AIMessage, HumanMessage\n",
    "from langgraph.graph.message import add_messages\n",
    "\n",
    "msgs1 = [HumanMessage(content=\"안녕하세요?\", id=\"1\")]\n",
    "msgs2 = [AIMessage(content=\"반갑습니다~\", id=\"2\")]\n",
    "\n",
    "# msgs1에 msgs2를 넣어줌 \n",
    "result1 = add_messages(msgs1, msgs2)"
   ]
  },
  {
   "cell_type": "code",
   "execution_count": 5,
   "metadata": {},
   "outputs": [
    {
     "data": {
      "text/plain": [
       "[HumanMessage(content='안녕하세요?', additional_kwargs={}, response_metadata={}, id='1'),\n",
       " AIMessage(content='반갑습니다~', additional_kwargs={}, response_metadata={}, id='2')]"
      ]
     },
     "execution_count": 5,
     "metadata": {},
     "output_type": "execute_result"
    }
   ],
   "source": [
    "result1"
   ]
  },
  {
   "cell_type": "markdown",
   "metadata": {},
   "source": [
    "# 2. 노드 (Node)\n",
    "\n",
    "- 함수로 정의 \n",
    "- 입력인자: 상태(State) 객체 \n",
    "- 반환 (return)\n",
    "    - 대부분 상태(State) 객체 \n",
    "    - Conditional Edge의 경우 다를 수 있음 \n",
    "\n",
    "코드\n",
    "\n",
    "```python\n",
    "def retrieve_document(state: GraphState) -> GraphState:\n",
    "    # 문서에서 검색하여 관련성 있는 문서를 찾습니다.\n",
    "    retrieved_docs = pdf_retriever.invoke(state[\"question\"])\n",
    "    # 검색된 문서를 context 키에 저장합니다.\n",
    "    return GraphState(context=format_docs(retrieved_docs))\n",
    "```"
   ]
  },
  {
   "cell_type": "markdown",
   "metadata": {},
   "source": [
    "## Graph 생성 후 노드 추가 \n",
    "\n",
    "- 이전에 정의한 함수를 Graph에 추가 \n",
    "- add_node(\"노드이름\", 함수)\n",
    "\n",
    "코드\n",
    "\n",
    "```python\n",
    "\n",
    "from typing import TypedDict, Annotated\n",
    "from langgraph.graph import END, StateGraph\n",
    "from langgraph.graph.message import add_messages\n",
    "\n",
    "# State 정의\n",
    "class GraphState(TypedDict):\n",
    "    question: Annotated[list, add_messages]\n",
    "    context: Annotated[str, \"Context\"]\n",
    "    answer: Annotated[str, \"Answer\"]\n",
    "    message: Annotated[list, add_messages]\n",
    "    relevance: Annotated[str, \"Relevance\"]\n",
    "\n",
    "# 노드 1 \n",
    "# 문서에서 관련성 있는 문서를 찾는 노드 \n",
    "def retrieve_document(state: GraphState) -> GraphState:\n",
    "    # Question에 대한 문서 검색을 retriever로 수행 \n",
    "    retrieved_docs = pdf_retriever.invoke(state[\"question\"])\n",
    "    # 검색된 문서를 context 키에 저장\n",
    "    return GraphState(context=format_docs(retrieved_docs))\n",
    "\n",
    "# 노드 2\n",
    "# Chain을 사용하여 답변을 생성 \n",
    "def llm_answer(state: GraphState) -> GraphState:\n",
    "    return GraphState(answer=pdf_chain.invoke({\"question\": state[\"question\"], \"context\": state[\"context\"]}))\n",
    "\n",
    "\n",
    "# langgraph.graph에서 StateGraph와 END를 가져온다.\n",
    "workflow = StateGraph(GraphState)\n",
    "\n",
    "# 정의된 함수를 Graph에 node로 넣어준다.\n",
    "workflow.add_node(\"retrieve\", retrieve_document)    # 정보 검색 노드에 이름을 지어주어 Graph에 추가 \n",
    "workflow.add_node(\"llm_answer\", llm_answer)         # 답변 생성기 노드에 이름을 지어주어 Graph에 추가 \n",
    "\n",
    "```"
   ]
  },
  {
   "cell_type": "markdown",
   "metadata": {},
   "source": [
    "# 3. 엣지 (Edge)\n",
    "\n",
    "- 노드에서 노드간의 연결 \n",
    "- add_edge(\"노드이름\", \"노드이름)\n",
    "    - add_edge(from, to)\n",
    "\n",
    "코드\n",
    "\n",
    "```python\n",
    "workflow.add_edge(\"retrieve\", \"llm_answer\")  # 검색 -> 답변 \n",
    "workflow.add_edge(\"llm_answer\", \"relevance_check\")  # 답변 -> 관련성 체크 \n",
    "```"
   ]
  },
  {
   "cell_type": "markdown",
   "metadata": {},
   "source": [
    "# 4. 조건부 엣지 (Conditional Edge)\n",
    "\n",
    "- 노드에 조건부 엣지를 추가하여 분기를 나눌 수 있음 \n",
    "- add_conditional_edge(\"노드이름\", 조건부판단함수, dict로 다음 단계 결정)\n",
    "\n",
    "## 흐름 \n",
    "\n",
    "- \"relevance_check\" 노드에서 나온 결과를 is_relevant 함수에 입력 \n",
    "- 반환된 값은 \"grounded\", \"notGrounded\", \"notSure\" 중 하나 \n",
    "    - value에 해당하는 값이 END면 Graph 실행 종료 \n",
    "    - \"llm_answer\"와 같이 노드이름이면 해당 노드로 연결 \n",
    "\n",
    "코드\n",
    "\n",
    "```python\n",
    "# 조건부 엣지를 Graph에 추가 \n",
    "workflow.add_conditional_edges(\n",
    "    \"relevance_check\",                  # \"relevance_check\"(관련성 체크)노드에서 나온 결과를 \n",
    "    is_relevant,                        # is_relevant 함수에 전달 \n",
    "    {\n",
    "        \"grounded\": END,                 # 관련성이 (grounded)있으면 종료(END) \n",
    "        \"notGrounded\": \"llm_answer\",     # 관련성이 (notGrounded)없으면 다시 답변을 생성 (llm_answer 노드 실행)\n",
    "        \"notSure\": \"llm_answer\",         # 관련성 체크 결과가 (notSure)모호하면 다시 답변을 생성 (llm_answer 노드 실행)\n",
    "    },\n",
    ")\n",
    "```"
   ]
  },
  {
   "cell_type": "markdown",
   "metadata": {},
   "source": [
    "# 5. 시작점 지정 \n",
    "\n",
    "- set_entry_point(\"노드이름\")\n",
    "- 지정한 시작점부터 Graph가 시작 \n",
    "\n",
    "\n",
    "코드\n",
    "\n",
    "```python\n",
    "# 시작점을 retreive 노드로 시작\n",
    "workflow.set_entry_point(\"retrieve\")\n",
    "```\n"
   ]
  },
  {
   "cell_type": "markdown",
   "metadata": {},
   "source": [
    "# 6. 체크포인터 (memory)\n",
    "\n",
    "- Checkpointer: **각 노드간 실행결과를 추적하기 위한 메모리** (대화에 대한 기록과 유사 개념)\n",
    "- 체크포인터를 활용하여 **특정 시점 (Snapshot)으로 되돌리기 기능** 가능 \n",
    "- compile(checkpointer=memory) 지정하여 그래프 생성 \n",
    "\n",
    "코드\n",
    "\n",
    "```python\n",
    "# 기록을 위한 메모리 저장소 설정 \n",
    "memory = MemorySaver()\n",
    "# 그래프를 컴파일 \n",
    "app = workflow.compile(checkpointer=memory)\n",
    "```"
   ]
  },
  {
   "cell_type": "markdown",
   "metadata": {},
   "source": [
    "# 7. 그래프 시각화 \n",
    "\n",
    "- get_graph(xray=True).draw_mermaid_png()\n",
    "    - 생성한 그래프 시각화 \n",
    "\n",
    "\n",
    "코드\n",
    "\n",
    "```python\n",
    "display(\n",
    "    Image(app.get_graph(xray=True).draw_mermaid_png())\n",
    ")\n",
    "\n",
    "```\n"
   ]
  },
  {
   "cell_type": "markdown",
   "metadata": {},
   "source": [
    "# 8. 그래프 실행 \n",
    "\n",
    "- RunnableConfig \n",
    "    - recursion_limit: 최대 노드 실행 개수를 지정 \n",
    "        + 무한 순환 구조에 빠지는 것을 방지\n",
    "    - thread_id: 그래프 실행 아이디를 기록하고, 추후 추적하기 위한 목적으로 활용 \n",
    "\n",
    "- 상태 (State)로 시작 \n",
    "    - \"question\"에 질문만 입력하고 상태를 첫 번째 노드에게 전달 \n",
    "\n",
    "- invoke(상태, config) 전달하여 실행  \n",
    "\n",
    "코드 \n",
    "\n",
    "```python\n",
    "\n",
    "from langchain_core.runnables import RunnableConfig\n",
    "\n",
    "# recursion_limit: 최대 반복 횟수, thread_id: 실행 ID (구분용)\n",
    "config = RunnableConfig(recursion_limit=20, configurable={'thread_id': \"test-graph\"})\n",
    "\n",
    "# GraphState 객체를 활용 \n",
    "inputs = GraphState(question=\"삼성전자가 개발한 생성형 AI의 이름은?\")\n",
    "output = app.invoke(inputs, config=config)\n",
    "\n",
    "```\n",
    "\n",
    "## 결과 확인 \n",
    "- 출력된 결과로 최종 확인 \n",
    "- 출력 결과 역시 상태 (State)에 담겨 있음 \n",
    "\n",
    "```python\n",
    "# 출력 결과를 확인 \n",
    "print(\"Question: \\t\", output[\"question\"])\n",
    "print(\"Answer: \\t\", output[\"question\"])\n",
    "print(\"Relevance: \\t\", output[\"relevance\"])\n",
    "```\n"
   ]
  },
  {
   "cell_type": "code",
   "execution_count": null,
   "metadata": {},
   "outputs": [],
   "source": []
  }
 ],
 "metadata": {
  "kernelspec": {
   "display_name": "llm",
   "language": "python",
   "name": "python3"
  },
  "language_info": {
   "codemirror_mode": {
    "name": "ipython",
    "version": 3
   },
   "file_extension": ".py",
   "mimetype": "text/x-python",
   "name": "python",
   "nbconvert_exporter": "python",
   "pygments_lexer": "ipython3",
   "version": "3.10.16"
  }
 },
 "nbformat": 4,
 "nbformat_minor": 2
}
