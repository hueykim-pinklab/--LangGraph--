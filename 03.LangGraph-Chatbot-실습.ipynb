{
 "cells": [
  {
   "cell_type": "markdown",
   "id": "eec680f5",
   "metadata": {},
   "source": [
    "# LangGraph 챗봇 구축\n",
    "\n",
    "- LangGraph 실습을 통해 개념 이해하기 \n",
    "- LangGraph를 통해 기본 챗봇 만들기\n",
    "- StateGraph를 생성\n",
    "- StateGraph 객체는 챗봇의 구조를 \"상태 기계(State Machine)\"로 정의\n",
    "\n",
    "학습 목표 \n",
    "- `nodes`를 추가하여 챗봇이 호출할 수 있는 `llm`과 함수들을 나타내고, \n",
    "- `edges`를 추가하여 봇이 이러한 함수들 간에 어떻게 전환해야 하는지를 지정\n",
    "- 이 과정을 확인하고 학습하자"
   ]
  },
  {
   "cell_type": "code",
   "execution_count": 1,
   "id": "de9d9d8d",
   "metadata": {},
   "outputs": [
    {
     "data": {
      "text/plain": [
       "True"
      ]
     },
     "execution_count": 1,
     "metadata": {},
     "output_type": "execute_result"
    }
   ],
   "source": [
    "# API 키를 환경변수로 관리하기 위한 설정 파일\n",
    "from dotenv import load_dotenv\n",
    "\n",
    "# API 키 정보 로드\n",
    "load_dotenv()"
   ]
  },
  {
   "cell_type": "markdown",
   "id": "d836a929",
   "metadata": {},
   "source": [
    "## Step-by-Step 개념 이해하기!\n",
    "\n",
    "- STEP 1. 상태 (State) 정의 \n",
    "- STEP 2. 노드 (Node) 정의 \n",
    "- STEP 3. 그래프 (Graph) 정의 \n",
    "- STEP 4. 노드 (Node) 추가\n",
    "- STEP 5. 엣지 (Edge) 추가\n",
    "- STEP 6. 그래프 컴파일(compile)\n",
    "- STEP 7. 그래프 시각화\n",
    "- STEP 8. 그래프 실행"
   ]
  },
  {
   "cell_type": "markdown",
   "id": "c38f326c",
   "metadata": {},
   "source": [
    "### STEP 1. 상태(State) 정의"
   ]
  },
  {
   "cell_type": "code",
   "execution_count": 6,
   "id": "2230e22c",
   "metadata": {},
   "outputs": [],
   "source": [
    "from typing import Annotated, TypedDict\n",
    "from langgraph.graph import StateGraph, START, END\n",
    "from langgraph.graph.message import add_messages\n",
    "\n",
    "\n",
    "class State(TypedDict):\n",
    "    messages: Annotated[list, add_messages]     # messages 정의 : list 타입으로 다루고 add_messages 함수를 사용하여 메시지를 리스트에 추가 함 "
   ]
  },
  {
   "cell_type": "markdown",
   "id": "8d73ca7b",
   "metadata": {},
   "source": [
    "### STEP 2. 노드(Node) 정의"
   ]
  },
  {
   "cell_type": "markdown",
   "id": "cbc8fac2",
   "metadata": {},
   "source": [
    "다음으로 \"`chatbot`\" 노드를 추가합니다. \n",
    "\n",
    "노드는 작업의 단위를 나타내며, 일반적으로 정규 **Python** 함수입니다."
   ]
  },
  {
   "cell_type": "code",
   "execution_count": 7,
   "id": "f4db3a07",
   "metadata": {},
   "outputs": [],
   "source": [
    "from langchain_openai import ChatOpenAI\n",
    "\n",
    "# LLM 정의\n",
    "llm = ChatOpenAI(model=\"gpt-4o-mini\", temperature=0)\n",
    "\n",
    "\n",
    "# 챗봇 함수 정의\n",
    "def chatbot(state: State):\n",
    "    # 메시지 호출 및 반환\n",
    "    return {\"messages\": [llm.invoke(state[\"messages\"])]}"
   ]
  },
  {
   "cell_type": "markdown",
   "id": "045f7223",
   "metadata": {},
   "source": [
    "### STEP 3. 그래프(Graph) 정의"
   ]
  },
  {
   "cell_type": "code",
   "execution_count": 8,
   "id": "09d1d2f1",
   "metadata": {},
   "outputs": [],
   "source": [
    "# 그래프 생성\n",
    "graph_builder = StateGraph(State)"
   ]
  },
  {
   "cell_type": "markdown",
   "id": "cb42f364",
   "metadata": {},
   "source": [
    "### STEP 4. 노드 (Node) 추가"
   ]
  },
  {
   "cell_type": "code",
   "execution_count": 9,
   "id": "9b6233ae",
   "metadata": {},
   "outputs": [
    {
     "data": {
      "text/plain": [
       "<langgraph.graph.state.StateGraph at 0x793748397b20>"
      ]
     },
     "execution_count": 9,
     "metadata": {},
     "output_type": "execute_result"
    }
   ],
   "source": [
    "\n",
    "# 노드 이름, 함수 혹은 callable 객체를 인자로 받아 노드를 추가\n",
    "graph_builder.add_node(\"chatbot\", chatbot)"
   ]
  },
  {
   "cell_type": "markdown",
   "id": "684fc782",
   "metadata": {},
   "source": [
    "**참고**\n",
    "\n",
    "- `chatbot` 노드 함수는 현재 `State`를 입력으로 받아 \"messages\"라는 키 아래에 업데이트된 `messages` 목록을 포함하는 사전(TypedDict) 을 반환\n",
    "\n",
    "- `State`의 `add_messages` 함수는 이미 상태에 있는 메시지에 llm의 응답 메시지를 추가한다. "
   ]
  },
  {
   "cell_type": "markdown",
   "id": "a18b0aae",
   "metadata": {},
   "source": [
    "### STEP 5. 그래프 엣지(Edge) 추가\n",
    "\n",
    "- 가장 먼저 `START` 지점 추가 필요\n",
    "- `START`는 그래프가 실행될 때마다 **작업을 시작할 위치**"
   ]
  },
  {
   "cell_type": "code",
   "execution_count": 10,
   "id": "2ddc4236",
   "metadata": {},
   "outputs": [
    {
     "data": {
      "text/plain": [
       "<langgraph.graph.state.StateGraph at 0x793748397b20>"
      ]
     },
     "execution_count": 10,
     "metadata": {},
     "output_type": "execute_result"
    }
   ],
   "source": [
    "# 시작 노드에서 챗봇 노드로의 엣지 추가\n",
    "graph_builder.add_edge(START, \"chatbot\")"
   ]
  },
  {
   "cell_type": "markdown",
   "id": "000626da",
   "metadata": {},
   "source": [
    "\n",
    "- 마찬가지로, `END` 지점을 설정 필요\n",
    "- 이는 그래프 흐름의 종료(끝지점)"
   ]
  },
  {
   "cell_type": "code",
   "execution_count": 11,
   "id": "9e3b0a51",
   "metadata": {},
   "outputs": [
    {
     "data": {
      "text/plain": [
       "<langgraph.graph.state.StateGraph at 0x793748397b20>"
      ]
     },
     "execution_count": 11,
     "metadata": {},
     "output_type": "execute_result"
    }
   ],
   "source": [
    "# 그래프에 엣지 추가\n",
    "graph_builder.add_edge(\"chatbot\", END)"
   ]
  },
  {
   "cell_type": "markdown",
   "id": "3f5bd367",
   "metadata": {},
   "source": [
    "### STEP 6. 그래프 컴파일(compile)"
   ]
  },
  {
   "cell_type": "markdown",
   "id": "a599f6f8",
   "metadata": {},
   "source": [
    "- 마지막으로, 그래프 실행을 위해 그리프 빌더에 \"`compile()`\"을 호출 \n",
    "- State(상태)에서 호출할 수 있는 \"`CompiledGraph`\"가 생성"
   ]
  },
  {
   "cell_type": "code",
   "execution_count": 12,
   "id": "4f28795b",
   "metadata": {},
   "outputs": [],
   "source": [
    "# 그래프 컴파일\n",
    "graph = graph_builder.compile()"
   ]
  },
  {
   "cell_type": "markdown",
   "id": "00ce8197",
   "metadata": {},
   "source": [
    "### STEP 7. 그래프 시각화"
   ]
  },
  {
   "cell_type": "code",
   "execution_count": 13,
   "id": "8235a6d2",
   "metadata": {},
   "outputs": [
    {
     "data": {
      "image/png": "[encoded data removed]",
      "text/plain": [
       "<IPython.core.display.Image object>"
      ]
     },
     "metadata": {},
     "output_type": "display_data"
    }
   ],
   "source": [
    "from langchain_teddynote.graphs import visualize_graph\n",
    "\n",
    "# 그래프 시각화\n",
    "visualize_graph(graph)"
   ]
  },
  {
   "cell_type": "markdown",
   "id": "afb6eeba",
   "metadata": {},
   "source": [
    "### STEP 8. 그래프 실행"
   ]
  },
  {
   "cell_type": "markdown",
   "id": "ffa2cc55",
   "metadata": {},
   "source": [
    "이제 챗봇을 실행해봅시다!"
   ]
  },
  {
   "cell_type": "code",
   "execution_count": 14,
   "id": "049fc976",
   "metadata": {},
   "outputs": [
    {
     "name": "stdout",
     "output_type": "stream",
     "text": [
      "Assistant: 서울에는 다양한 맛집이 많아서 선택하기가 어렵지만, 다음은 서울에서 유명한 맛집 TOP 10을 추천해 드립니다. 각 식당은 독특한 메뉴와 분위기를 가지고 있으니 참고해 보세요!\n",
      "\n",
      "1. **광장시장** - 전통 시장으로, 빈대떡, 마약김밥, 떡볶이 등 다양한 길거리 음식을 즐길 수 있습니다.\n",
      "\n",
      "2. **부암동 카페거리** - 예쁜 카페와 맛있는 디저트를 제공하는 곳으로, 특히 '카페 드 파리'의 생과일 빙수가 유명합니다.\n",
      "\n",
      "3. **이태원 앤틱 가구 거리** - 다양한 국제 요리를 즐길 수 있는 곳으로, '부리또'와 '타코'가 인기 있는 멕시코 음식점들이 많습니다.\n",
      "\n",
      "4. **명동 교자** - 칼국수와 만두가 유명한 맛집으로, 항상 많은 사람들이 줄 서서 기다리는 곳입니다.\n",
      "\n",
      "5. **삼청동 수제비** - 전통 수제비와 다양한 반찬이 인기인 곳으로, 아늑한 분위기에서 식사를 즐길 수 있습니다.\n",
      "\n",
      "6. **신사동 가로수길** - 다양한 트렌디한 카페와 레스토랑이 모여 있는 곳으로, '브런치 카페'가 특히 유명합니다.\n",
      "\n",
      "7. **종로의 한정식집** - 전통 한정식을 맛볼 수 있는 곳으로, '한정식'을 제대로 즐기고 싶다면 추천합니다.\n",
      "\n",
      "8. **홍대의 퓨전 음식점** - 다양한 퓨전 요리를 제공하는 식당들이 많아, '홍대 돈부리'와 같은 독특한 메뉴를 즐길 수 있습니다.\n",
      "\n",
      "9. **강남의 스시집** - 신선한 재료로 만든 스시를 제공하는 곳으로, '스시효'가 특히 유명합니다.\n",
      "\n",
      "10. **여의도 한강공원** - 피크닉을 즐기며 다양한 길거리 음식을 맛볼 수 있는 곳으로, 특히 '치킨'과 '맥주'가 인기입니다.\n",
      "\n",
      "각 지역마다 특색 있는 맛집이 많으니, 방문하실 때 참고하시기 바랍니다!\n"
     ]
    }
   ],
   "source": [
    "question = \"서울의 유명한 맛집 TOP 10 추천해줘\"\n",
    "\n",
    "# 그래프 이벤트 스트리밍\n",
    "for event in graph.stream({\"messages\": [(\"user\", question)]}):\n",
    "    # 이벤트 값 출력\n",
    "    for value in event.values():\n",
    "        print(\"Assistant:\", value[\"messages\"][-1].content)"
   ]
  },
  {
   "cell_type": "markdown",
   "id": "f82fb67c",
   "metadata": {},
   "source": [
    "자! 여기까지가 가장 기본적인 챗봇 구축이었습니다. \n",
    "\n",
    "아래는 이전 과정을 정리한 전체 코드입니다."
   ]
  },
  {
   "cell_type": "markdown",
   "id": "dec091e3",
   "metadata": {},
   "source": [
    "## 전체 코드"
   ]
  },
  {
   "cell_type": "code",
   "execution_count": 15,
   "id": "f3bd4f86",
   "metadata": {},
   "outputs": [
    {
     "data": {
      "image/png": "[encoded data removed]",
      "text/plain": [
       "<IPython.core.display.Image object>"
      ]
     },
     "metadata": {},
     "output_type": "display_data"
    },
    {
     "name": "stdout",
     "output_type": "stream",
     "text": [
      "서울에는 다양한 맛집이 많아서 선택하기가 어렵지만, 다음은 서울에서 유명한 맛집 TOP 10을 추천해 드립니다. 각 식당은 고유의 매력을 가지고 있으니 참고해 보세요!\n",
      "\n",
      "1. **광장시장** - 전통 시장으로, 빈대떡, 마약김밥, 떡볶이 등 다양한 길거리 음식을 즐길 수 있습니다.\n",
      "\n",
      "2. **부암동 카페거리** - 예쁜 카페와 맛있는 디저트가 많은 곳으로, 특히 '카페 드 파리'의 생과일 빙수가 유명합니다.\n",
      "\n",
      "3. **이태원 앤틱 가구 거리** - 다양한 국제 요리를 즐길 수 있는 곳으로, 특히 '부리또'와 '타코'가 인기입니다.\n",
      "\n",
      "4. **명동교자** - 칼국수와 만두가 유명한 맛집으로, 항상 많은 사람들이 줄 서서 기다립니다.\n",
      "\n",
      "5. **삼청동 수제비** - 수제비와 전통 한식을 맛볼 수 있는 곳으로, 아늑한 분위기가 매력적입니다.\n",
      "\n",
      "6. **신사동 가로수길** - 다양한 트렌디한 카페와 레스토랑이 모여 있는 곳으로, '카페 마마스'의 샌드위치가 인기입니다.\n",
      "\n",
      "7. **홍대입구** - 다양한 길거리 음식과 맛집이 많은 지역으로, '홍대 떡볶이'와 '홍대 핫도그'가 유명합니다.\n",
      "\n",
      "8. **종로 통인시장** - 전통 시장으로, 다양한 한식과 간식을 즐길 수 있는 곳입니다. 특히 '김밥'과 '전'이 인기입니다.\n",
      "\n",
      "9. **압구정 로데오거리** - 고급 레스토랑과 카페가 많은 지역으로, '스시조'의 초밥이 유명합니다.\n",
      "\n",
      "10. **여의도 한강공원** - 피크닉을 즐기며 다양한 배달 음식을 맛볼 수 있는 곳으로, 특히 '치킨'과 '피자'가 인기입니다.\n",
      "\n",
      "각 지역마다 특색 있는 음식과 분위기를 즐길 수 있으니, 방문해 보시길 추천합니다!\n"
     ]
    }
   ],
   "source": [
    "from typing import Annotated, TypedDict\n",
    "from langgraph.graph import StateGraph, START, END\n",
    "from langgraph.graph.message import add_messages\n",
    "from langchain_openai import ChatOpenAI\n",
    "from langchain_teddynote.graphs import visualize_graph\n",
    "\n",
    "\n",
    "###### STEP 1. 상태(State) 정의 ######\n",
    "class State(TypedDict):\n",
    "    # 메시지 정의(list type 이며 add_messages 함수를 사용하여 메시지를 추가)\n",
    "    messages: Annotated[list, add_messages]\n",
    "\n",
    "\n",
    "###### STEP 2. 노드(Node) 정의 ######\n",
    "# LLM 정의\n",
    "llm = ChatOpenAI(model=\"gpt-4o-mini\", temperature=0)\n",
    "\n",
    "\n",
    "# 챗봇 함수 정의\n",
    "def chatbot(state: State):\n",
    "    # 메시지 호출 및 반환\n",
    "    return {\"messages\": [llm.invoke(state[\"messages\"])]}\n",
    "\n",
    "\n",
    "###### STEP 3. 그래프(Graph) 정의 ######\n",
    "# 그래프 생성\n",
    "graph_builder = StateGraph(State)\n",
    "\n",
    "###### STEP 4. 노드(Node) 추가 ######\n",
    "# 노드 이름, 함수 혹은 callable 객체를 인자로 받아 노드를 추가\n",
    "graph_builder.add_node(\"chatbot\", chatbot)\n",
    "\n",
    "###### STEP 5. 그래프 엣지(Edge) 추가 ######\n",
    "# START 노드에서 챗봇 노드로 엣지 추가\n",
    "graph_builder.add_edge(START, \"chatbot\")\n",
    "\n",
    "# 챗봇 노드에서 END 노드로 엣지 추가\n",
    "graph_builder.add_edge(\"chatbot\", END)\n",
    "\n",
    "###### STEP 6. 그래프 컴파일(compile) ######\n",
    "# 그래프 컴파일\n",
    "graph = graph_builder.compile()\n",
    "\n",
    "###### STEP 7. 그래프 시각화 ######\n",
    "# 그래프 시각화\n",
    "visualize_graph(graph)\n",
    "\n",
    "###### STEP 8. 그래프 실행 ######\n",
    "question = \"서울의 유명한 맛집 TOP 10 추천해줘\"\n",
    "\n",
    "# 그래프 이벤트 스트리밍\n",
    "for event in graph.stream({\"messages\": [(\"user\", question)]}):\n",
    "    # 이벤트 값 출력\n",
    "    for value in event.values():\n",
    "        print(value[\"messages\"][-1].content)"
   ]
  },
  {
   "cell_type": "code",
   "execution_count": null,
   "id": "edefd038",
   "metadata": {},
   "outputs": [],
   "source": []
  }
 ],
 "metadata": {
  "kernelspec": {
   "display_name": "llm",
   "language": "python",
   "name": "python3"
  },
  "language_info": {
   "codemirror_mode": {
    "name": "ipython",
    "version": 3
   },
   "file_extension": ".py",
   "mimetype": "text/x-python",
   "name": "python",
   "nbconvert_exporter": "python",
   "pygments_lexer": "ipython3",
   "version": "3.10.16"
  }
 },
 "nbformat": 4,
 "nbformat_minor": 5
}
